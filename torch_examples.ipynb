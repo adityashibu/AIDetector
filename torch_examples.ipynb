{
 "cells": [
  {
   "cell_type": "markdown",
   "id": "19a2f4d2-0487-474f-a803-a6f2340dd673",
   "metadata": {},
   "source": [
    "# Examples using Torch"
   ]
  },
  {
   "cell_type": "code",
   "execution_count": 1,
   "id": "10d18dbe-f64b-4c23-97d9-9154281866f3",
   "metadata": {},
   "outputs": [],
   "source": [
    "import torch"
   ]
  },
  {
   "cell_type": "markdown",
   "id": "00f475e3-46ed-4164-be83-c76d98d3e9cb",
   "metadata": {},
   "source": [
    "### Create a tensor of 6 elements using a random number between -100 and 100"
   ]
  },
  {
   "cell_type": "code",
   "execution_count": 2,
   "id": "08a25857-3c24-496c-8612-c1a66f7228a0",
   "metadata": {},
   "outputs": [
    {
     "data": {
      "text/plain": [
       "tensor([-42,   8, -43,  -3, -94, -43])"
      ]
     },
     "execution_count": 2,
     "metadata": {},
     "output_type": "execute_result"
    }
   ],
   "source": [
    "randint = torch.randint(-100, 100, (6,))\n",
    "randint"
   ]
  },
  {
   "cell_type": "markdown",
   "id": "c992da8b-5f8b-4ebc-868c-bb025f6df67b",
   "metadata": {},
   "source": [
    "### Creating a tensor using torch"
   ]
  },
  {
   "cell_type": "code",
   "execution_count": 4,
   "id": "fe2d0750-fa3f-452b-bd07-cef44ae57c4a",
   "metadata": {},
   "outputs": [
    {
     "data": {
      "text/plain": [
       "tensor([[0.1000, 1.2000],\n",
       "        [2.2000, 3.1000],\n",
       "        [4.9000, 5.2000]])"
      ]
     },
     "execution_count": 4,
     "metadata": {},
     "output_type": "execute_result"
    }
   ],
   "source": [
    "tensor = torch.tensor([[0.1, 1.2], [2.2, 3.1], [4.9, 5.2]])\n",
    "tensor"
   ]
  },
  {
   "cell_type": "markdown",
   "id": "fb350e4d-2850-4b83-90ae-4a087facdf17",
   "metadata": {},
   "source": [
    "### Zeros in Torch"
   ]
  },
  {
   "cell_type": "code",
   "execution_count": 5,
   "id": "191a852f-b6ba-4c17-85de-77e633c1b9d0",
   "metadata": {},
   "outputs": [
    {
     "data": {
      "text/plain": [
       "tensor([[0., 0., 0.],\n",
       "        [0., 0., 0.]])"
      ]
     },
     "execution_count": 5,
     "metadata": {},
     "output_type": "execute_result"
    }
   ],
   "source": [
    "zeros = torch.zeros(2, 3)\n",
    "zeros"
   ]
  },
  {
   "cell_type": "markdown",
   "id": "f4a737a3-2222-49ee-834e-0239ffddcb09",
   "metadata": {},
   "source": [
    "### Ones in Torch"
   ]
  },
  {
   "cell_type": "code",
   "execution_count": 6,
   "id": "08e8e270-f5a0-4389-ae5e-d219059c7368",
   "metadata": {},
   "outputs": [
    {
     "data": {
      "text/plain": [
       "tensor([[1., 1., 1.],\n",
       "        [1., 1., 1.]])"
      ]
     },
     "execution_count": 6,
     "metadata": {},
     "output_type": "execute_result"
    }
   ],
   "source": [
    "ones = torch.ones(2, 3)\n",
    "ones"
   ]
  },
  {
   "cell_type": "markdown",
   "id": "50cf270c-3f0b-44c0-8558-c5b836c19e45",
   "metadata": {},
   "source": [
    "### Create a tensor in a given range"
   ]
  },
  {
   "cell_type": "code",
   "execution_count": 7,
   "id": "3fed7599-504b-47f6-893b-60fcf961edf8",
   "metadata": {},
   "outputs": [
    {
     "data": {
      "text/plain": [
       "tensor([0, 1, 2, 3, 4])"
      ]
     },
     "execution_count": 7,
     "metadata": {},
     "output_type": "execute_result"
    }
   ],
   "source": [
    "arange = torch.arange(5)\n",
    "arange"
   ]
  },
  {
   "cell_type": "markdown",
   "id": "46eceecc-7113-47f1-8ef6-bb967e87965b",
   "metadata": {},
   "source": [
    "### Create equal dividends using torch, from 3 to 10 with 5 steps"
   ]
  },
  {
   "cell_type": "code",
   "execution_count": 8,
   "id": "383ee3a5-71e3-40d9-8edf-0691acb553a5",
   "metadata": {},
   "outputs": [
    {
     "data": {
      "text/plain": [
       "tensor([ 3.0000,  4.7500,  6.5000,  8.2500, 10.0000])"
      ]
     },
     "execution_count": 8,
     "metadata": {},
     "output_type": "execute_result"
    }
   ],
   "source": [
    "linspace = torch.linspace(3, 10, steps=5)\n",
    "linspace"
   ]
  },
  {
   "cell_type": "markdown",
   "id": "e39a3fb1-c2c1-40b2-ab54-7f5427541049",
   "metadata": {},
   "source": [
    "### Increment or Decrement powers of 10, according to given power reduction"
   ]
  },
  {
   "cell_type": "code",
   "execution_count": 9,
   "id": "58c4adeb-5803-481a-bdb4-7f3392d3f4fd",
   "metadata": {},
   "outputs": [
    {
     "data": {
      "text/plain": [
       "tensor([1.0000e-10, 1.0000e-05, 1.0000e+00, 1.0000e+05, 1.0000e+10])"
      ]
     },
     "execution_count": 9,
     "metadata": {},
     "output_type": "execute_result"
    }
   ],
   "source": [
    "logspace = torch.logspace(-10, 10, steps=5)\n",
    "logspace"
   ]
  },
  {
   "cell_type": "markdown",
   "id": "b0055c13-8015-4197-9452-8fec12f458d4",
   "metadata": {},
   "source": [
    "### Create diagonal matrix using eye function"
   ]
  },
  {
   "cell_type": "code",
   "execution_count": 10,
   "id": "aa467ff5-fa43-4745-a74c-309418bb64d5",
   "metadata": {},
   "outputs": [
    {
     "data": {
      "text/plain": [
       "tensor([[1., 0., 0., 0., 0.],\n",
       "        [0., 1., 0., 0., 0.],\n",
       "        [0., 0., 1., 0., 0.],\n",
       "        [0., 0., 0., 1., 0.],\n",
       "        [0., 0., 0., 0., 1.]])"
      ]
     },
     "execution_count": 10,
     "metadata": {},
     "output_type": "execute_result"
    }
   ],
   "source": [
    "eye = torch.eye(5)\n",
    "eye"
   ]
  },
  {
   "cell_type": "markdown",
   "id": "5e921354-8d42-4e99-9f45-1b1047c65ae5",
   "metadata": {},
   "source": [
    "# GPU VS CPU"
   ]
  },
  {
   "cell_type": "markdown",
   "id": "6098dd74-7ec4-4116-b801-83c4cd32e229",
   "metadata": {},
   "source": [
    "## Switch to GPU processing"
   ]
  },
  {
   "cell_type": "code",
   "execution_count": 11,
   "id": "4babd8a6-dc64-4f57-ad78-d9f31c5dbbdb",
   "metadata": {},
   "outputs": [
    {
     "name": "stdout",
     "output_type": "stream",
     "text": [
      "cuda\n"
     ]
    }
   ],
   "source": [
    "import time\n",
    "device = 'cuda' if torch.cuda.is_available() else 'cpu'\n",
    "print(device)"
   ]
  }
 ],
 "metadata": {
  "kernelspec": {
   "display_name": "Python 3 (ipykernel)",
   "language": "python",
   "name": "python3"
  },
  "language_info": {
   "codemirror_mode": {
    "name": "ipython",
    "version": 3
   },
   "file_extension": ".py",
   "mimetype": "text/x-python",
   "name": "python",
   "nbconvert_exporter": "python",
   "pygments_lexer": "ipython3",
   "version": "3.11.7"
  }
 },
 "nbformat": 4,
 "nbformat_minor": 5
}
