{
 "cells": [
  {
   "cell_type": "markdown",
   "id": "cf06d177",
   "metadata": {},
   "source": [
    "# Import required libraries and functions"
   ]
  },
  {
   "cell_type": "code",
   "execution_count": 1,
   "id": "49f06d49",
   "metadata": {},
   "outputs": [],
   "source": [
    "import pandas as pd\n",
    "import numpy as np\n",
    "from sklearn.model_selection import train_test_split, cross_val_score\n",
    "from sklearn.feature_extraction.text import CountVectorizer\n",
    "from sklearn.linear_model import LogisticRegression\n",
    "from sklearn.metrics import accuracy_score, classification_report"
   ]
  },
  {
   "cell_type": "code",
   "execution_count": 2,
   "id": "e0d3f7e0",
   "metadata": {},
   "outputs": [],
   "source": [
    "data = pd.read_csv('preprocessed_data.csv')"
   ]
  },
  {
   "cell_type": "code",
   "execution_count": 4,
   "id": "b4f28d40",
   "metadata": {},
   "outputs": [
    {
     "name": "stdout",
     "output_type": "stream",
     "text": [
      "                                                     text  generated  \\\n",
      "0       cars. cars have been around since they became ...        0.0   \n",
      "1       transportation is a large necessity in most co...        0.0   \n",
      "2       \"america's love affair with it's vehicles seem...        0.0   \n",
      "3       how often do you ride in a car? do you drive a...        0.0   \n",
      "4       cars are a wonderful thing. they are perhaps o...        0.0   \n",
      "...                                                   ...        ...   \n",
      "136377  some schools require students to complete summ...        0.0   \n",
      "136378   if you could visit tne place in the world, wh...        1.0   \n",
      "136379   in my opinion, emerson's statement that every...        1.0   \n",
      "136380   tht challenge of exploring venus \\n\\nby woodr...        1.0   \n",
      "136381  if we want driverless cars so bad why don't we...        0.0   \n",
      "\n",
      "                                           tokenized_text  \\\n",
      "0       ['cars', '.', 'cars', 'have', 'been', 'around'...   \n",
      "1       ['transportation', 'is', 'a', 'large', 'necess...   \n",
      "2       ['``', 'america', \"'s\", 'love', 'affair', 'wit...   \n",
      "3       ['how', 'often', 'do', 'you', 'ride', 'in', 'a...   \n",
      "4       ['cars', 'are', 'a', 'wonderful', 'thing', '.'...   \n",
      "...                                                   ...   \n",
      "136377  ['some', 'schools', 'require', 'students', 'to...   \n",
      "136378  ['if', 'you', 'could', 'visit', 'tne', 'place'...   \n",
      "136379  ['in', 'my', 'opinion', ',', 'emerson', \"'s\", ...   \n",
      "136380  ['tht', 'challenge', 'of', 'exploring', 'venus...   \n",
      "136381  ['if', 'we', 'want', 'driverless', 'cars', 'so...   \n",
      "\n",
      "                                            filtered_text  \n",
      "0       ['cars', '.', 'cars', 'around', 'since', 'beca...  \n",
      "1       ['transportation', 'large', 'necessity', 'coun...  \n",
      "2       ['``', 'america', \"'s\", 'love', 'affair', \"'s\"...  \n",
      "3       ['often', 'ride', 'car', '?', 'drive', 'one', ...  \n",
      "4       ['cars', 'wonderful', 'thing', '.', 'perhaps',...  \n",
      "...                                                   ...  \n",
      "136377  ['schools', 'require', 'students', 'complete',...  \n",
      "136378  ['could', 'visit', 'tne', 'place', 'world', ',...  \n",
      "136379  ['opinion', ',', 'emerson', \"'s\", 'statement',...  \n",
      "136380  ['tht', 'challenge', 'exploring', 'venus', 'wo...  \n",
      "136381  ['want', 'driverless', 'cars', 'bad', \"n't\", '...  \n",
      "\n",
      "[136382 rows x 4 columns]\n"
     ]
    }
   ],
   "source": [
    "print(data)"
   ]
  },
  {
   "cell_type": "code",
   "execution_count": 5,
   "id": "66776475",
   "metadata": {},
   "outputs": [],
   "source": [
    "X = data['filtered_text']\n",
    "y = data['generated']"
   ]
  },
  {
   "cell_type": "code",
   "execution_count": 6,
   "id": "82e64bdf",
   "metadata": {},
   "outputs": [],
   "source": [
    "X_train, X_val_test, y_train, y_val_test = train_test_split(X, y, test_size=0.4, random_state=42)"
   ]
  },
  {
   "cell_type": "code",
   "execution_count": 7,
   "id": "e9cada80",
   "metadata": {},
   "outputs": [],
   "source": [
    "vectorizer = CountVectorizer()\n",
    "X_train_vectorized = vectorizer.fit_transform(X_train)\n",
    "X_val_vectorized = vectorizer.transform(X_val_test)"
   ]
  },
  {
   "cell_type": "code",
   "execution_count": 11,
   "id": "82424eed",
   "metadata": {
    "scrolled": true
   },
   "outputs": [
    {
     "data": {
      "text/html": [
       "<style>#sk-container-id-4 {color: black;}#sk-container-id-4 pre{padding: 0;}#sk-container-id-4 div.sk-toggleable {background-color: white;}#sk-container-id-4 label.sk-toggleable__label {cursor: pointer;display: block;width: 100%;margin-bottom: 0;padding: 0.3em;box-sizing: border-box;text-align: center;}#sk-container-id-4 label.sk-toggleable__label-arrow:before {content: \"▸\";float: left;margin-right: 0.25em;color: #696969;}#sk-container-id-4 label.sk-toggleable__label-arrow:hover:before {color: black;}#sk-container-id-4 div.sk-estimator:hover label.sk-toggleable__label-arrow:before {color: black;}#sk-container-id-4 div.sk-toggleable__content {max-height: 0;max-width: 0;overflow: hidden;text-align: left;background-color: #f0f8ff;}#sk-container-id-4 div.sk-toggleable__content pre {margin: 0.2em;color: black;border-radius: 0.25em;background-color: #f0f8ff;}#sk-container-id-4 input.sk-toggleable__control:checked~div.sk-toggleable__content {max-height: 200px;max-width: 100%;overflow: auto;}#sk-container-id-4 input.sk-toggleable__control:checked~label.sk-toggleable__label-arrow:before {content: \"▾\";}#sk-container-id-4 div.sk-estimator input.sk-toggleable__control:checked~label.sk-toggleable__label {background-color: #d4ebff;}#sk-container-id-4 div.sk-label input.sk-toggleable__control:checked~label.sk-toggleable__label {background-color: #d4ebff;}#sk-container-id-4 input.sk-hidden--visually {border: 0;clip: rect(1px 1px 1px 1px);clip: rect(1px, 1px, 1px, 1px);height: 1px;margin: -1px;overflow: hidden;padding: 0;position: absolute;width: 1px;}#sk-container-id-4 div.sk-estimator {font-family: monospace;background-color: #f0f8ff;border: 1px dotted black;border-radius: 0.25em;box-sizing: border-box;margin-bottom: 0.5em;}#sk-container-id-4 div.sk-estimator:hover {background-color: #d4ebff;}#sk-container-id-4 div.sk-parallel-item::after {content: \"\";width: 100%;border-bottom: 1px solid gray;flex-grow: 1;}#sk-container-id-4 div.sk-label:hover label.sk-toggleable__label {background-color: #d4ebff;}#sk-container-id-4 div.sk-serial::before {content: \"\";position: absolute;border-left: 1px solid gray;box-sizing: border-box;top: 0;bottom: 0;left: 50%;z-index: 0;}#sk-container-id-4 div.sk-serial {display: flex;flex-direction: column;align-items: center;background-color: white;padding-right: 0.2em;padding-left: 0.2em;position: relative;}#sk-container-id-4 div.sk-item {position: relative;z-index: 1;}#sk-container-id-4 div.sk-parallel {display: flex;align-items: stretch;justify-content: center;background-color: white;position: relative;}#sk-container-id-4 div.sk-item::before, #sk-container-id-4 div.sk-parallel-item::before {content: \"\";position: absolute;border-left: 1px solid gray;box-sizing: border-box;top: 0;bottom: 0;left: 50%;z-index: -1;}#sk-container-id-4 div.sk-parallel-item {display: flex;flex-direction: column;z-index: 1;position: relative;background-color: white;}#sk-container-id-4 div.sk-parallel-item:first-child::after {align-self: flex-end;width: 50%;}#sk-container-id-4 div.sk-parallel-item:last-child::after {align-self: flex-start;width: 50%;}#sk-container-id-4 div.sk-parallel-item:only-child::after {width: 0;}#sk-container-id-4 div.sk-dashed-wrapped {border: 1px dashed gray;margin: 0 0.4em 0.5em 0.4em;box-sizing: border-box;padding-bottom: 0.4em;background-color: white;}#sk-container-id-4 div.sk-label label {font-family: monospace;font-weight: bold;display: inline-block;line-height: 1.2em;}#sk-container-id-4 div.sk-label-container {text-align: center;}#sk-container-id-4 div.sk-container {/* jupyter's `normalize.less` sets `[hidden] { display: none; }` but bootstrap.min.css set `[hidden] { display: none !important; }` so we also need the `!important` here to be able to override the default hidden behavior on the sphinx rendered scikit-learn.org. See: https://github.com/scikit-learn/scikit-learn/issues/21755 */display: inline-block !important;position: relative;}#sk-container-id-4 div.sk-text-repr-fallback {display: none;}</style><div id=\"sk-container-id-4\" class=\"sk-top-container\"><div class=\"sk-text-repr-fallback\"><pre>LogisticRegression(max_iter=1000)</pre><b>In a Jupyter environment, please rerun this cell to show the HTML representation or trust the notebook. <br />On GitHub, the HTML representation is unable to render, please try loading this page with nbviewer.org.</b></div><div class=\"sk-container\" hidden><div class=\"sk-item\"><div class=\"sk-estimator sk-toggleable\"><input class=\"sk-toggleable__control sk-hidden--visually\" id=\"sk-estimator-id-4\" type=\"checkbox\" checked><label for=\"sk-estimator-id-4\" class=\"sk-toggleable__label sk-toggleable__label-arrow\">LogisticRegression</label><div class=\"sk-toggleable__content\"><pre>LogisticRegression(max_iter=1000)</pre></div></div></div></div></div>"
      ],
      "text/plain": [
       "LogisticRegression(max_iter=1000)"
      ]
     },
     "execution_count": 11,
     "metadata": {},
     "output_type": "execute_result"
    }
   ],
   "source": [
    "logreg = LogisticRegression(max_iter=1000, penalty='l2')\n",
    "logreg.fit(X_train_vectorized, y_train)"
   ]
  },
  {
   "cell_type": "code",
   "execution_count": 12,
   "id": "d5948957",
   "metadata": {},
   "outputs": [],
   "source": [
    "scores = cross_val_score(logreg, X_train_vectorized, y_train, cv=5)"
   ]
  },
  {
   "cell_type": "code",
   "execution_count": 13,
   "id": "9dda122c",
   "metadata": {},
   "outputs": [
    {
     "name": "stdout",
     "output_type": "stream",
     "text": [
      "Validation accuracy:  0.9958939766103311\n",
      "Classification Report: \n",
      "              precision    recall  f1-score   support\n",
      "\n",
      "         0.0       1.00      1.00      1.00     15223\n",
      "         1.0       1.00      1.00      1.00     12054\n",
      "\n",
      "    accuracy                           1.00     27277\n",
      "   macro avg       1.00      1.00      1.00     27277\n",
      "weighted avg       1.00      1.00      1.00     27277\n",
      "\n",
      "[0.99518812 0.99541726 0.99592136 0.99509647 0.99500481]\n"
     ]
    }
   ],
   "source": [
    "y_val_pred = logreg.predict(X_val_vectorized)\n",
    "accuracy = accuracy_score(y_val_test, y_val_pred)\n",
    "print(\"Validation accuracy: \", accuracy)\n",
    "print(\"Classification Report: \")\n",
    "print(classification_report(y_val_test, y_val_pred))\n",
    "print(scores)"
   ]
  }
 ],
 "metadata": {
  "kernelspec": {
   "display_name": "Python 3 (ipykernel)",
   "language": "python",
   "name": "python3"
  },
  "language_info": {
   "codemirror_mode": {
    "name": "ipython",
    "version": 3
   },
   "file_extension": ".py",
   "mimetype": "text/x-python",
   "name": "python",
   "nbconvert_exporter": "python",
   "pygments_lexer": "ipython3",
   "version": "3.11.5"
  }
 },
 "nbformat": 4,
 "nbformat_minor": 5
}
