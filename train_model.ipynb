{
 "cells": [
  {
   "cell_type": "markdown",
   "id": "db3088ba",
   "metadata": {},
   "source": [
    "# Import required libraries and functions"
   ]
  },
  {
   "cell_type": "code",
   "execution_count": 1,
   "id": "96740cfa",
   "metadata": {},
   "outputs": [],
   "source": [
    "import pandas as pd\n",
    "import numpy as np\n",
    "from sklearn.model_selection import train_test_split, cross_val_score\n",
    "from sklearn.feature_extraction.text import CountVectorizer\n",
    "from sklearn.linear_model import LogisticRegression\n",
    "from sklearn.metrics import accuracy_score, classification_reporta"
   ]
  },
  {
   "cell_type": "code",
   "execution_count": 2,
   "id": "b193d145",
   "metadata": {},
   "outputs": [],
   "source": [
    "data = pd.read_csv('preprocessed_data.csv')"
   ]
  },
  {
   "cell_type": "code",
   "execution_count": 4,
   "id": "6da30095",
   "metadata": {},
   "outputs": [
    {
     "name": "stdout",
     "output_type": "stream",
     "text": [
      "                                                     text  generated  \\\n",
      "0       cars. cars have been around since they became ...        0.0   \n",
      "1       transportation is a large necessity in most co...        0.0   \n",
      "2       \"america's love affair with it's vehicles seem...        0.0   \n",
      "3       how often do you ride in a car? do you drive a...        0.0   \n",
      "4       cars are a wonderful thing. they are perhaps o...        0.0   \n",
      "...                                                   ...        ...   \n",
      "136377  some schools require students to complete summ...        0.0   \n",
      "136378   if you could visit tne place in the world, wh...        1.0   \n",
      "136379   in my opinion, emerson's statement that every...        1.0   \n",
      "136380   tht challenge of exploring venus \\n\\nby woodr...        1.0   \n",
      "136381  if we want driverless cars so bad why don't we...        0.0   \n",
      "\n",
      "                                           tokenized_text  \\\n",
      "0       ['cars', '.', 'cars', 'have', 'been', 'around'...   \n",
      "1       ['transportation', 'is', 'a', 'large', 'necess...   \n",
      "2       ['``', 'america', \"'s\", 'love', 'affair', 'wit...   \n",
      "3       ['how', 'often', 'do', 'you', 'ride', 'in', 'a...   \n",
      "4       ['cars', 'are', 'a', 'wonderful', 'thing', '.'...   \n",
      "...                                                   ...   \n",
      "136377  ['some', 'schools', 'require', 'students', 'to...   \n",
      "136378  ['if', 'you', 'could', 'visit', 'tne', 'place'...   \n",
      "136379  ['in', 'my', 'opinion', ',', 'emerson', \"'s\", ...   \n",
      "136380  ['tht', 'challenge', 'of', 'exploring', 'venus...   \n",
      "136381  ['if', 'we', 'want', 'driverless', 'cars', 'so...   \n",
      "\n",
      "                                            filtered_text  \n",
      "0       ['cars', '.', 'cars', 'around', 'since', 'beca...  \n",
      "1       ['transportation', 'large', 'necessity', 'coun...  \n",
      "2       ['``', 'america', \"'s\", 'love', 'affair', \"'s\"...  \n",
      "3       ['often', 'ride', 'car', '?', 'drive', 'one', ...  \n",
      "4       ['cars', 'wonderful', 'thing', '.', 'perhaps',...  \n",
      "...                                                   ...  \n",
      "136377  ['schools', 'require', 'students', 'complete',...  \n",
      "136378  ['could', 'visit', 'tne', 'place', 'world', ',...  \n",
      "136379  ['opinion', ',', 'emerson', \"'s\", 'statement',...  \n",
      "136380  ['tht', 'challenge', 'exploring', 'venus', 'wo...  \n",
      "136381  ['want', 'driverless', 'cars', 'bad', \"n't\", '...  \n",
      "\n",
      "[136382 rows x 4 columns]\n"
     ]
    }
   ],
   "source": [
    "print(data)"
   ]
  },
  {
   "cell_type": "code",
   "execution_count": 5,
   "id": "48206fbc",
   "metadata": {},
   "outputs": [],
   "source": [
    "X = data['filtered_text']\n",
    "y = data['generated']"
   ]
  },
  {
   "cell_type": "code",
   "execution_count": 6,
   "id": "0367d9c1",
   "metadata": {},
   "outputs": [],
   "source": [
    "X_train, X_val_test, y_train, y_val_test = train_test_split(X, y, test_size=0.2, random_state=42)"
   ]
  }
 ],
 "metadata": {
  "kernelspec": {
   "display_name": "Python 3 (ipykernel)",
   "language": "python",
   "name": "python3"
  },
  "language_info": {
   "codemirror_mode": {
    "name": "ipython",
    "version": 3
   },
   "file_extension": ".py",
   "mimetype": "text/x-python",
   "name": "python",
   "nbconvert_exporter": "python",
   "pygments_lexer": "ipython3",
   "version": "3.11.5"
  }
 },
 "nbformat": 4,
 "nbformat_minor": 5
}
