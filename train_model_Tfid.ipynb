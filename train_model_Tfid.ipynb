{
 "cells": [
  {
   "cell_type": "markdown",
   "id": "cf06d177",
   "metadata": {},
   "source": [
    "# Import required libraries and functions"
   ]
  },
  {
   "cell_type": "code",
   "execution_count": 1,
   "id": "49f06d49",
   "metadata": {},
   "outputs": [],
   "source": [
    "import pandas as pd\n",
    "import numpy as np\n",
    "from sklearn.model_selection import train_test_split, cross_val_score\n",
    "from sklearn.feature_extraction.text import TfidfVectorizer\n",
    "from sklearn.linear_model import LogisticRegressionCV\n",
    "from sklearn.metrics import accuracy_score, classification_report"
   ]
  },
  {
   "cell_type": "code",
   "execution_count": 2,
   "id": "e0d3f7e0",
   "metadata": {},
   "outputs": [],
   "source": [
    "data = pd.read_csv('preprocessed_data.csv')"
   ]
  },
  {
   "cell_type": "code",
   "execution_count": 3,
   "id": "b4f28d40",
   "metadata": {},
   "outputs": [
    {
     "name": "stdout",
     "output_type": "stream",
     "text": [
      "                                                     text  generated  \\\n",
      "0       cars. cars have been around since they became ...        0.0   \n",
      "1       transportation is a large necessity in most co...        0.0   \n",
      "2       \"america's love affair with it's vehicles seem...        0.0   \n",
      "3       how often do you ride in a car? do you drive a...        0.0   \n",
      "4       cars are a wonderful thing. they are perhaps o...        0.0   \n",
      "...                                                   ...        ...   \n",
      "136377  some schools require students to complete summ...        0.0   \n",
      "136378   if you could visit tne place in the world, wh...        1.0   \n",
      "136379   in my opinion, emerson's statement that every...        1.0   \n",
      "136380   tht challenge of exploring venus \\n\\nby woodr...        1.0   \n",
      "136381  if we want driverless cars so bad why don't we...        0.0   \n",
      "\n",
      "                                           tokenized_text  \\\n",
      "0       ['cars', '.', 'cars', 'have', 'been', 'around'...   \n",
      "1       ['transportation', 'is', 'a', 'large', 'necess...   \n",
      "2       ['``', 'america', \"'s\", 'love', 'affair', 'wit...   \n",
      "3       ['how', 'often', 'do', 'you', 'ride', 'in', 'a...   \n",
      "4       ['cars', 'are', 'a', 'wonderful', 'thing', '.'...   \n",
      "...                                                   ...   \n",
      "136377  ['some', 'schools', 'require', 'students', 'to...   \n",
      "136378  ['if', 'you', 'could', 'visit', 'tne', 'place'...   \n",
      "136379  ['in', 'my', 'opinion', ',', 'emerson', \"'s\", ...   \n",
      "136380  ['tht', 'challenge', 'of', 'exploring', 'venus...   \n",
      "136381  ['if', 'we', 'want', 'driverless', 'cars', 'so...   \n",
      "\n",
      "                                            filtered_text  \n",
      "0       ['cars', '.', 'cars', 'around', 'since', 'beca...  \n",
      "1       ['transportation', 'large', 'necessity', 'coun...  \n",
      "2       ['``', 'america', \"'s\", 'love', 'affair', \"'s\"...  \n",
      "3       ['often', 'ride', 'car', '?', 'drive', 'one', ...  \n",
      "4       ['cars', 'wonderful', 'thing', '.', 'perhaps',...  \n",
      "...                                                   ...  \n",
      "136377  ['schools', 'require', 'students', 'complete',...  \n",
      "136378  ['could', 'visit', 'tne', 'place', 'world', ',...  \n",
      "136379  ['opinion', ',', 'emerson', \"'s\", 'statement',...  \n",
      "136380  ['tht', 'challenge', 'exploring', 'venus', 'wo...  \n",
      "136381  ['want', 'driverless', 'cars', 'bad', \"n't\", '...  \n",
      "\n",
      "[136382 rows x 4 columns]\n"
     ]
    }
   ],
   "source": [
    "print(data)"
   ]
  },
  {
   "cell_type": "code",
   "execution_count": 4,
   "id": "66776475",
   "metadata": {},
   "outputs": [],
   "source": [
    "X = data['filtered_text']\n",
    "y = data['generated']"
   ]
  },
  {
   "cell_type": "code",
   "execution_count": 12,
   "id": "82e64bdf",
   "metadata": {},
   "outputs": [],
   "source": [
    "X_train, X_val_test, y_train, y_val_test = train_test_split(X, y, test_size=0.2, random_state=42)"
   ]
  },
  {
   "cell_type": "code",
   "execution_count": 13,
   "id": "e9cada80",
   "metadata": {},
   "outputs": [],
   "source": [
    "vectorizer = TfidfVectorizer()\n",
    "X_train_vectorized = vectorizer.fit_transform(X_train)\n",
    "X_val_vectorized = vectorizer.transform(X_val_test)"
   ]
  },
  {
   "cell_type": "code",
   "execution_count": null,
   "id": "82424eed",
   "metadata": {
    "scrolled": true
   },
   "outputs": [],
   "source": [
    "logreg = LogisticRegressionCV(cv=5, penalty='l2', max_iter=1000)\n",
    "logreg.fit(X_train_vectorized, y_train)"
   ]
  },
  {
   "cell_type": "code",
   "execution_count": 9,
   "id": "d5948957",
   "metadata": {},
   "outputs": [],
   "source": [
    "scores = cross_val_score(logreg, X_train_vectorized, y_train, cv=5)"
   ]
  },
  {
   "cell_type": "code",
   "execution_count": 10,
   "id": "9dda122c",
   "metadata": {},
   "outputs": [
    {
     "name": "stdout",
     "output_type": "stream",
     "text": [
      "Validation accuracy:  0.9956189393800524\n",
      "Classification Report: \n",
      "              precision    recall  f1-score   support\n",
      "\n",
      "         0.0       1.00      1.00      1.00     30425\n",
      "         1.0       1.00      0.99      1.00     24128\n",
      "\n",
      "    accuracy                           1.00     54553\n",
      "   macro avg       1.00      1.00      1.00     54553\n",
      "weighted avg       1.00      1.00      1.00     54553\n",
      "\n"
     ]
    }
   ],
   "source": [
    "y_val_pred = logreg.predict(X_val_vectorized)\n",
    "accuracy = accuracy_score(y_val_test, y_val_pred)\n",
    "print(\"Validation accuracy: \", accuracy)\n",
    "print(\"Classification Report: \")\n",
    "print(classification_report(y_val_test, y_val_pred))"
   ]
  }
 ],
 "metadata": {
  "kernelspec": {
   "display_name": "Python 3 (ipykernel)",
   "language": "python",
   "name": "python3"
  },
  "language_info": {
   "codemirror_mode": {
    "name": "ipython",
    "version": 3
   },
   "file_extension": ".py",
   "mimetype": "text/x-python",
   "name": "python",
   "nbconvert_exporter": "python",
   "pygments_lexer": "ipython3",
   "version": "3.11.5"
  }
 },
 "nbformat": 4,
 "nbformat_minor": 5
}
