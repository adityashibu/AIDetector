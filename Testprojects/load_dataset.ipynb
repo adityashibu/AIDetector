{
 "cells": [
  {
   "cell_type": "code",
   "execution_count": 6,
   "id": "3c48cd49",
   "metadata": {},
   "outputs": [
    {
     "name": "stderr",
     "output_type": "stream",
     "text": [
      "[nltk_data] Downloading package stopwords to C:\\Users\\Aditya\n",
      "[nltk_data]     Uni\\AppData\\Roaming\\nltk_data...\n",
      "[nltk_data]   Unzipping corpora\\stopwords.zip.\n",
      "[nltk_data] Downloading package punkt to C:\\Users\\Aditya\n",
      "[nltk_data]     Uni\\AppData\\Roaming\\nltk_data...\n",
      "[nltk_data]   Unzipping tokenizers\\punkt.zip.\n"
     ]
    },
    {
     "data": {
      "text/plain": [
       "True"
      ]
     },
     "execution_count": 6,
     "metadata": {},
     "output_type": "execute_result"
    }
   ],
   "source": [
    "import nltk\n",
    "import pandas as pd\n",
    "from nltk.corpus import stopwords\n",
    "from nltk.tokenize import word_tokenize\n",
    "nltk.download('stopwords')\n",
    "nltk.download('punkt')"
   ]
  },
  {
   "cell_type": "markdown",
   "id": "545a9b71",
   "metadata": {},
   "source": [
    "# Load the Dataset"
   ]
  },
  {
   "cell_type": "code",
   "execution_count": 9,
   "id": "6f0deec6",
   "metadata": {},
   "outputs": [],
   "source": [
    "data = pd.read_csv('AI_Human.csv')"
   ]
  },
  {
   "cell_type": "code",
   "execution_count": 11,
   "id": "8bbaf868",
   "metadata": {},
   "outputs": [
    {
     "name": "stdout",
     "output_type": "stream",
     "text": [
      "                                                     text  generated\n",
      "0       Cars. Cars have been around since they became ...        0.0\n",
      "1       Transportation is a large necessity in most co...        0.0\n",
      "2       \"America's love affair with it's vehicles seem...        0.0\n",
      "3       How often do you ride in a car? Do you drive a...        0.0\n",
      "4       Cars are a wonderful thing. They are perhaps o...        0.0\n",
      "...                                                   ...        ...\n",
      "487230  Tie Face on Mars is really just a big misunder...        0.0\n",
      "487231  The whole purpose of democracy is to create a ...        0.0\n",
      "487232  I firmly believe that governments worldwide sh...        1.0\n",
      "487233  I DFN't agree with this decision because a LFT...        0.0\n",
      "487234  Richard Non, Jimmy Carter, and Bob Dole and ot...        0.0\n",
      "\n",
      "[487235 rows x 2 columns]\n"
     ]
    }
   ],
   "source": [
    "print(data)"
   ]
  },
  {
   "cell_type": "code",
   "execution_count": 12,
   "id": "925a2c33",
   "metadata": {},
   "outputs": [],
   "source": [
    "data['text'] = data['text'].str.lower()"
   ]
  },
  {
   "cell_type": "code",
   "execution_count": 13,
   "id": "3b59c210",
   "metadata": {},
   "outputs": [
    {
     "name": "stdout",
     "output_type": "stream",
     "text": [
      "0         cars. cars have been around since they became ...\n",
      "1         transportation is a large necessity in most co...\n",
      "2         \"america's love affair with it's vehicles seem...\n",
      "3         how often do you ride in a car? do you drive a...\n",
      "4         cars are a wonderful thing. they are perhaps o...\n",
      "                                ...                        \n",
      "487230    tie face on mars is really just a big misunder...\n",
      "487231    the whole purpose of democracy is to create a ...\n",
      "487232    i firmly believe that governments worldwide sh...\n",
      "487233    i dfn't agree with this decision because a lft...\n",
      "487234    richard non, jimmy carter, and bob dole and ot...\n",
      "Name: text, Length: 487235, dtype: object\n"
     ]
    }
   ],
   "source": [
    "print(data['text'])"
   ]
  },
  {
   "cell_type": "code",
   "execution_count": 16,
   "id": "a15f72b9",
   "metadata": {},
   "outputs": [],
   "source": [
    "data['tokenized_text'] = data['text'].apply(word_tokenize)"
   ]
  },
  {
   "cell_type": "code",
   "execution_count": 15,
   "id": "7935a689",
   "metadata": {},
   "outputs": [
    {
     "name": "stdout",
     "output_type": "stream",
     "text": [
      "0         [cars, ., cars, have, been, around, since, the...\n",
      "1         [transportation, is, a, large, necessity, in, ...\n",
      "2         [``, america, 's, love, affair, with, it, 's, ...\n",
      "3         [how, often, do, you, ride, in, a, car, ?, do,...\n",
      "4         [cars, are, a, wonderful, thing, ., they, are,...\n",
      "                                ...                        \n",
      "487230    [tie, face, on, mars, is, really, just, a, big...\n",
      "487231    [the, whole, purpose, of, democracy, is, to, c...\n",
      "487232    [i, firmly, believe, that, governments, worldw...\n",
      "487233    [i, df, n't, agree, with, this, decision, beca...\n",
      "487234    [richard, non, ,, jimmy, carter, ,, and, bob, ...\n",
      "Name: tokenized_text, Length: 487235, dtype: object\n"
     ]
    }
   ],
   "source": [
    "print(data['tokenized_text'])"
   ]
  },
  {
   "cell_type": "code",
   "execution_count": 17,
   "id": "7460e9a6",
   "metadata": {},
   "outputs": [],
   "source": [
    "stop_words = set(stopwords.words('english'))"
   ]
  },
  {
   "cell_type": "code",
   "execution_count": 18,
   "id": "fbe740a0",
   "metadata": {},
   "outputs": [],
   "source": [
    "data['filtered_text'] = data['tokenized_text'].apply(lambda x: [word for word in x if word not in stop_words]"
   ]
  },
  {
   "cell_type": "code",
   "execution_count": 19,
   "id": "abbb938d",
   "metadata": {},
   "outputs": [
    {
     "name": "stdout",
     "output_type": "stream",
     "text": [
      "0         [cars, ., cars, around, since, became, famous,...\n",
      "1         [transportation, large, necessity, countries, ...\n",
      "2         [``, america, 's, love, affair, 's, vehicles, ...\n",
      "3         [often, ride, car, ?, drive, one, motor, vehic...\n",
      "4         [cars, wonderful, thing, ., perhaps, one, worl...\n",
      "                                ...                        \n",
      "487230    [tie, face, mars, really, big, misunderstandin...\n",
      "487231    [whole, purpose, democracy, create, government...\n",
      "487232    [firmly, believe, governments, worldwide, take...\n",
      "487233    [df, n't, agree, decision, lft, ff, kids, may,...\n",
      "487234    [richard, non, ,, jimmy, carter, ,, bob, dole,...\n",
      "Name: filtered_text, Length: 487235, dtype: object\n"
     ]
    }
   ],
   "source": [
    "print(data['filtered_text'])"
   ]
  },
  {
   "cell_type": "code",
   "execution_count": null,
   "id": "13cf9a5b",
   "metadata": {},
   "outputs": [],
   "source": []
  }
 ],
 "metadata": {
  "kernelspec": {
   "display_name": "Python 3 (ipykernel)",
   "language": "python",
   "name": "python3"
  },
  "language_info": {
   "codemirror_mode": {
    "name": "ipython",
    "version": 3
   },
   "file_extension": ".py",
   "mimetype": "text/x-python",
   "name": "python",
   "nbconvert_exporter": "python",
   "pygments_lexer": "ipython3",
   "version": "3.11.5"
  }
 },
 "nbformat": 4,
 "nbformat_minor": 5
}
